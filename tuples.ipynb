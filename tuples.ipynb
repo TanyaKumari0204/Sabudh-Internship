{
  "nbformat": 4,
  "nbformat_minor": 0,
  "metadata": {
    "colab": {
      "provenance": [],
      "authorship_tag": "ABX9TyObtEBmtOwlaJKVn8IhToBJ",
      "include_colab_link": true
    },
    "kernelspec": {
      "name": "python3",
      "display_name": "Python 3"
    },
    "language_info": {
      "name": "python"
    }
  },
  "cells": [
    {
      "cell_type": "markdown",
      "metadata": {
        "id": "view-in-github",
        "colab_type": "text"
      },
      "source": [
        "<a href=\"https://colab.research.google.com/github/TanyaKumari0204/Sabudh-Internship/blob/main/tuples.ipynb\" target=\"_parent\"><img src=\"https://colab.research.google.com/assets/colab-badge.svg\" alt=\"Open In Colab\"/></a>"
      ]
    },
    {
      "cell_type": "code",
      "execution_count": null,
      "metadata": {
        "colab": {
          "base_uri": "https://localhost:8080/"
        },
        "id": "VZdtyWalrmOc",
        "outputId": "15f8a60c-7975-4cbb-910d-341a4de12b4a"
      },
      "outputs": [
        {
          "output_type": "stream",
          "name": "stdout",
          "text": [
            "(45, 5, 'Pyhton', True)\n"
          ]
        }
      ],
      "source": [
        "tup=(45,5,\"Python\",True)\n",
        "print(tup)\n"
      ]
    },
    {
      "cell_type": "code",
      "source": [
        "tup_of_num=(1,2,3,4,5)\n",
        "print(tup_of_num[4])"
      ],
      "metadata": {
        "colab": {
          "base_uri": "https://localhost:8080/"
        },
        "id": "5dofcdgyr3af",
        "outputId": "0336c5b3-22ad-4ccc-df52-5761c4c068b9"
      },
      "execution_count": null,
      "outputs": [
        {
          "output_type": "stream",
          "name": "stdout",
          "text": [
            "5\n"
          ]
        }
      ]
    },
    {
      "cell_type": "code",
      "source": [
        "tups=(1,2,34)\n",
        "new=tups+(4,)\n",
        "print(new)"
      ],
      "metadata": {
        "colab": {
          "base_uri": "https://localhost:8080/"
        },
        "id": "Z5JENAOzsZVQ",
        "outputId": "fe638148-ad00-4a03-aace-d2e870abcff6"
      },
      "execution_count": null,
      "outputs": [
        {
          "output_type": "stream",
          "name": "stdout",
          "text": [
            "(1, 2, 34, 4)\n"
          ]
        }
      ]
    },
    {
      "cell_type": "code",
      "source": [
        "tupp=(1,2,3,4,5,6)\n",
        "element=tupp[-4]\n",
        "print(element)"
      ],
      "metadata": {
        "colab": {
          "base_uri": "https://localhost:8080/"
        },
        "id": "7GmkeYLKsh4Y",
        "outputId": "83bfd6a4-ccb6-459b-abe2-b5f791eb0ba9"
      },
      "execution_count": null,
      "outputs": [
        {
          "output_type": "stream",
          "name": "stdout",
          "text": [
            "3\n"
          ]
        }
      ]
    },
    {
      "cell_type": "code",
      "source": [
        "tuppe=((\"One\",\"1\"),(\"Two\",\"2\"),(\"Three\",\"3\"))\n",
        "convert=dict(tuppe)\n",
        "print(convert)\n",
        "\n"
      ],
      "metadata": {
        "colab": {
          "base_uri": "https://localhost:8080/"
        },
        "id": "0WnamqECtFim",
        "outputId": "37dff793-3372-46c7-b180-b32406386017"
      },
      "execution_count": null,
      "outputs": [
        {
          "output_type": "stream",
          "name": "stdout",
          "text": [
            "{'One': '1', 'Two': '2', 'Three': '3'}\n"
          ]
        }
      ]
    },
    {
      "cell_type": "code",
      "source": [
        "tup=[(10, 20, 40), (40, 50, 60), (70, 80, 90)]\n",
        "update=[(a, b, 100) for (a, b, c) in tup]\n",
        "print(update)"
      ],
      "metadata": {
        "colab": {
          "base_uri": "https://localhost:8080/"
        },
        "id": "oDgztgUCtMJl",
        "outputId": "1bbfbc40-076e-4e63-a667-7978e54e7530"
      },
      "execution_count": null,
      "outputs": [
        {
          "output_type": "stream",
          "name": "stdout",
          "text": [
            "[(10, 20, 100), (40, 50, 100), (70, 80, 100)]\n"
          ]
        }
      ]
    },
    {
      "cell_type": "code",
      "source": [],
      "metadata": {
        "id": "gb5GL8NluN_B"
      },
      "execution_count": null,
      "outputs": []
    }
  ]
}