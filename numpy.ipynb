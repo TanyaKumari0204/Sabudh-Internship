{
  "nbformat": 4,
  "nbformat_minor": 0,
  "metadata": {
    "colab": {
      "provenance": [],
      "authorship_tag": "ABX9TyO2NiUYQ07eqcJM6wdpx+1D",
      "include_colab_link": true
    },
    "kernelspec": {
      "name": "python3",
      "display_name": "Python 3"
    },
    "language_info": {
      "name": "python"
    }
  },
  "cells": [
    {
      "cell_type": "markdown",
      "metadata": {
        "id": "view-in-github",
        "colab_type": "text"
      },
      "source": [
        "<a href=\"https://colab.research.google.com/github/TanyaKumari0204/Sabudh-Internship/blob/main/numpy.ipynb\" target=\"_parent\"><img src=\"https://colab.research.google.com/assets/colab-badge.svg\" alt=\"Open In Colab\"/></a>"
      ]
    },
    {
      "cell_type": "code",
      "execution_count": null,
      "metadata": {
        "id": "OXbTuIubz-IT"
      },
      "outputs": [],
      "source": [
        "import numpy as np"
      ]
    },
    {
      "cell_type": "code",
      "source": [
        "a=np.random.randint(0,100,size=10)\n",
        "b=np.random.randint(-10,11,size=(3,4))\n",
        "b_flat=b.reshape(-1)\n",
        "a_copy=a.copy()\n",
        "a_copy[0]=-1\n",
        "c=a[::2]\n",
        "print(a)\n",
        "print(b)\n",
        "print(b_flat)\n",
        "print(a_copy)\n",
        "print(c)"
      ],
      "metadata": {
        "colab": {
          "base_uri": "https://localhost:8080/"
        },
        "id": "nUUpYPS10Bu3",
        "outputId": "34f51438-23b3-4002-8daa-4b32ed2f3ac2"
      },
      "execution_count": null,
      "outputs": [
        {
          "output_type": "stream",
          "name": "stdout",
          "text": [
            "[90 39  1 88 19 31 32 84 14 23]\n",
            "[[ 6 -6 -9  0]\n",
            " [-3  0  7 -6]\n",
            " [ 0  7 -4 -1]]\n",
            "[ 6 -6 -9  0 -3  0  7 -6  0  7 -4 -1]\n",
            "[-1 39  1 88 19 31 32 84 14 23]\n",
            "[90  1 19 32 14]\n"
          ]
        }
      ]
    },
    {
      "cell_type": "code",
      "source": [
        "print(a[3])\n",
        "print(b[-1])\n",
        "print(b[:2,-2:])\n",
        "b_row=b[1]\n",
        "print(b_row)\n",
        "b_col=b[:,0]\n",
        "print(b_col)"
      ],
      "metadata": {
        "colab": {
          "base_uri": "https://localhost:8080/"
        },
        "id": "tC21NuGI2eHy",
        "outputId": "90bcf843-501f-40e0-b5b8-03ebde087e80"
      },
      "execution_count": null,
      "outputs": [
        {
          "output_type": "stream",
          "name": "stdout",
          "text": [
            "88\n",
            "[ 0  7 -4 -1]\n",
            "[[-9  0]\n",
            " [ 7 -6]]\n",
            "[-3  0  7 -6]\n",
            "[ 6 -3  0]\n"
          ]
        }
      ]
    },
    {
      "cell_type": "code",
      "source": [
        "d=np.arange(1,11)\n",
        "e=a+d\n",
        "b_double=b*2\n",
        "f=np.dot(b,b_double.T)\n",
        "g=np.mean([a.mean(),b.mean(),b_double.mean()])\n",
        "print(a)\n",
        "print(b)\n",
        "print(d)\n",
        "print(b_double)\n",
        "print(e)\n",
        "print(f)\n",
        "print(g)\n"
      ],
      "metadata": {
        "colab": {
          "base_uri": "https://localhost:8080/"
        },
        "id": "AsQNX3O30ZPd",
        "outputId": "9ed202f4-1163-4c75-af4b-4abb7cea35b2"
      },
      "execution_count": null,
      "outputs": [
        {
          "output_type": "stream",
          "name": "stdout",
          "text": [
            "[90 39  1 88 19 31 32 84 14 23]\n",
            "[[ 6 -6 -9  0]\n",
            " [-3  0  7 -6]\n",
            " [ 0  7 -4 -1]]\n",
            "[ 1  2  3  4  5  6  7  8  9 10]\n",
            "[[ 12 -12 -18   0]\n",
            " [ -6   0  14 -12]\n",
            " [  0  14  -8  -2]]\n",
            "[91 41  4 92 24 37 39 92 23 33]\n",
            "[[ 306 -162  -12]\n",
            " [-162  188  -44]\n",
            " [ -12  -44  132]]\n",
            "13.283333333333333\n"
          ]
        }
      ]
    },
    {
      "cell_type": "code",
      "source": [
        "a_sum=a.sum()\n",
        "b_min=b.min()\n",
        "b_double_max=b_double.max()\n",
        "print(a_sum)\n",
        "print(b_min)\n",
        "print(b_double_max)"
      ],
      "metadata": {
        "colab": {
          "base_uri": "https://localhost:8080/"
        },
        "id": "BMAlVu9h2P_4",
        "outputId": "5865ce5b-1914-49d2-a84c-f5268439f128"
      },
      "execution_count": null,
      "outputs": [
        {
          "output_type": "stream",
          "name": "stdout",
          "text": [
            "421\n",
            "-9\n",
            "14\n"
          ]
        }
      ]
    },
    {
      "cell_type": "code",
      "source": [],
      "metadata": {
        "id": "sSB8ZChM3BnH"
      },
      "execution_count": null,
      "outputs": []
    }
  ]
}