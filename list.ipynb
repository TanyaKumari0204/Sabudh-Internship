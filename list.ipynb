{
  "nbformat": 4,
  "nbformat_minor": 0,
  "metadata": {
    "colab": {
      "provenance": [],
      "authorship_tag": "ABX9TyNnwTQv1tiEu1YDHVADLy+d",
      "include_colab_link": true
    },
    "kernelspec": {
      "name": "python3",
      "display_name": "Python 3"
    },
    "language_info": {
      "name": "python"
    }
  },
  "cells": [
    {
      "cell_type": "markdown",
      "metadata": {
        "id": "view-in-github",
        "colab_type": "text"
      },
      "source": [
        "<a href=\"https://colab.research.google.com/github/TanyaKumari0204/Sabudh-Internship/blob/main/list.ipynb\" target=\"_parent\"><img src=\"https://colab.research.google.com/assets/colab-badge.svg\" alt=\"Open In Colab\"/></a>"
      ]
    },
    {
      "cell_type": "code",
      "execution_count": null,
      "metadata": {
        "colab": {
          "base_uri": "https://localhost:8080/"
        },
        "id": "6lDUYGS1ZnMk",
        "outputId": "ae212111-10cb-498e-e42c-08afd71f55f4"
      },
      "outputs": [
        {
          "output_type": "stream",
          "name": "stdout",
          "text": [
            "10080\n"
          ]
        }
      ],
      "source": [
        "list=[1,1,3,4,4,5,6,7]\n",
        "ans=1\n",
        "for i in list:\n",
        "  ans=ans*i\n",
        "print(ans)"
      ]
    },
    {
      "cell_type": "code",
      "source": [
        "list=[1,1,3,4,4,5,6,7]\n",
        "max=0\n",
        "for i in list:\n",
        "  if i>max:\n",
        "    max=i\n",
        "print(max)"
      ],
      "metadata": {
        "colab": {
          "base_uri": "https://localhost:8080/"
        },
        "id": "UiKcqE_SanYz",
        "outputId": "20c932fb-f534-4fe2-e8a9-239c964cd52b"
      },
      "execution_count": null,
      "outputs": [
        {
          "output_type": "stream",
          "name": "stdout",
          "text": [
            "7\n"
          ]
        }
      ]
    },
    {
      "cell_type": "code",
      "source": [
        "list=[1,1,3,4,4,5,6,7]\n",
        "min=list[0]\n",
        "for i in list:\n",
        "  if i<min:\n",
        "    min=i\n",
        "print(min)"
      ],
      "metadata": {
        "colab": {
          "base_uri": "https://localhost:8080/"
        },
        "id": "TxFsJEf1a2Xr",
        "outputId": "59392493-31c1-432b-e817-fa80b7cded74"
      },
      "execution_count": null,
      "outputs": [
        {
          "output_type": "stream",
          "name": "stdout",
          "text": [
            "1\n"
          ]
        }
      ]
    },
    {
      "cell_type": "code",
      "source": [
        "list=[1,1,3,4,4,5,6,7]\n",
        "tuple_list = [(i, val) for i, val in enumerate(list)]\n",
        "sorted_by_last = sorted(tuple_list, key=lambda x: x[-1])\n",
        "print(sorted_by_last)\n"
      ],
      "metadata": {
        "colab": {
          "base_uri": "https://localhost:8080/"
        },
        "id": "Xel6f51qbMCb",
        "outputId": "daa769f8-c24f-4bf8-a9d9-df1c2dcb72d5"
      },
      "execution_count": null,
      "outputs": [
        {
          "output_type": "stream",
          "name": "stdout",
          "text": [
            "[(0, 1), (1, 1), (2, 3), (3, 4), (4, 4), (5, 5), (6, 6), (7, 7)]\n"
          ]
        }
      ]
    },
    {
      "cell_type": "code",
      "source": [
        "list=[1,1,3,4,4,5,6,7]\n",
        "newlist=[]\n",
        "for i in list:\n",
        "  if i not in newlist:\n",
        "    newlist.append(i)\n",
        "print(newlist)"
      ],
      "metadata": {
        "colab": {
          "base_uri": "https://localhost:8080/"
        },
        "id": "j4MwkbjFcNdL",
        "outputId": "14383683-6dd1-4761-90ca-c4ce0714e884"
      },
      "execution_count": null,
      "outputs": [
        {
          "output_type": "stream",
          "name": "stdout",
          "text": [
            "[1, 3, 4, 5, 6, 7]\n"
          ]
        }
      ]
    },
    {
      "cell_type": "code",
      "source": [
        "list=[1,1,3,4,4,5,6,7]\n",
        "if not list:\n",
        "  print(\"The list is empty\")\n",
        "else:\n",
        "  print(\"The list is not empty\")\n"
      ],
      "metadata": {
        "colab": {
          "base_uri": "https://localhost:8080/"
        },
        "id": "-ntJsM8gcjxo",
        "outputId": "12d6d3f0-d5b1-4ced-c9f3-46354d5415dd"
      },
      "execution_count": null,
      "outputs": [
        {
          "output_type": "stream",
          "name": "stdout",
          "text": [
            "The list is not empty\n"
          ]
        }
      ]
    },
    {
      "cell_type": "code",
      "source": [
        "list=['a','B','v','F','c']\n",
        "count=0\n",
        "for i in list:\n",
        "  if i.islower():\n",
        "    count+=1\n",
        "print(count)"
      ],
      "metadata": {
        "colab": {
          "base_uri": "https://localhost:8080/"
        },
        "id": "nSQ88BmBc9k0",
        "outputId": "fd270938-963a-493b-9dde-5518a95d58a3"
      },
      "execution_count": null,
      "outputs": [
        {
          "output_type": "stream",
          "name": "stdout",
          "text": [
            "3\n"
          ]
        }
      ]
    },
    {
      "cell_type": "code",
      "source": [
        "list=input(\"enter the list:\")\n",
        "list = [int(x) for x in list.split(\",\")]\n",
        "count = 2\n",
        "result = []\n",
        "i = 0\n",
        "\n",
        "while i < len(list) - count + 1:\n",
        "    if all(list[i + j] == list[i] for j in range(count)):\n",
        "        if list[i] not in result:\n",
        "            result.append(list[i])\n",
        "        i += count\n",
        "    else:\n",
        "        i += 1\n",
        "\n",
        "print(result)"
      ],
      "metadata": {
        "colab": {
          "base_uri": "https://localhost:8080/"
        },
        "id": "kdTwmes8diD5",
        "outputId": "11047a73-f070-4b78-f6c4-8fce1b87f798"
      },
      "execution_count": null,
      "outputs": [
        {
          "output_type": "stream",
          "name": "stdout",
          "text": [
            "enter the list:1,2,3,4,4,1\n",
            "[4]\n"
          ]
        }
      ]
    },
    {
      "cell_type": "code",
      "source": [
        "ans=input(\"enter the list:\")\n",
        "lst = [int(x) for x in ans.split(\",\")]\n",
        "odd_numbers = [x for x in lst if x % 2 != 0]\n",
        "\n",
        "if odd_numbers:\n",
        "    print(\"Largest odd number:\", __builtins__.max(odd_numbers))  # Safe call\n",
        "\n",
        "else:\n",
        "    print(\"No odd numbers found\")\n"
      ],
      "metadata": {
        "colab": {
          "base_uri": "https://localhost:8080/"
        },
        "id": "zMx3DhzxeOfA",
        "outputId": "fac686c1-ea57-43f1-8725-6daa94716eb4"
      },
      "execution_count": null,
      "outputs": [
        {
          "output_type": "stream",
          "name": "stdout",
          "text": [
            "enter the list:0, 9, 2, 4, 5, 6\n",
            "Largest odd number: 9\n"
          ]
        }
      ]
    },
    {
      "cell_type": "code",
      "source": [
        "list= ['A','B','C','D','E','F']\n",
        "new=[]\n",
        "for i in range(len(list)):\n",
        "  if i in [0,4,5]:\n",
        "    continue\n",
        "  else:\n",
        "    new.append(list[i])\n",
        "print(new)"
      ],
      "metadata": {
        "colab": {
          "base_uri": "https://localhost:8080/"
        },
        "id": "1C40ErY8gDyY",
        "outputId": "a88aaea4-eb58-4294-b74e-7925ac9a495c"
      },
      "execution_count": null,
      "outputs": [
        {
          "output_type": "stream",
          "name": "stdout",
          "text": [
            "['B', 'C', 'D']\n"
          ]
        }
      ]
    },
    {
      "cell_type": "code",
      "source": [],
      "metadata": {
        "id": "9dZzPsWZiVEM"
      },
      "execution_count": null,
      "outputs": []
    }
  ]
}