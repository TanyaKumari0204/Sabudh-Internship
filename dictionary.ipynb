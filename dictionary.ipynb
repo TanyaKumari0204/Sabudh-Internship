{
  "nbformat": 4,
  "nbformat_minor": 0,
  "metadata": {
    "colab": {
      "provenance": [],
      "authorship_tag": "ABX9TyPOCezTTlvzTsp0nBARB8me",
      "include_colab_link": true
    },
    "kernelspec": {
      "name": "python3",
      "display_name": "Python 3"
    },
    "language_info": {
      "name": "python"
    }
  },
  "cells": [
    {
      "cell_type": "markdown",
      "metadata": {
        "id": "view-in-github",
        "colab_type": "text"
      },
      "source": [
        "<a href=\"https://colab.research.google.com/github/TanyaKumari0204/Sabudh-Internship/blob/main/dictionary.ipynb\" target=\"_parent\"><img src=\"https://colab.research.google.com/assets/colab-badge.svg\" alt=\"Open In Colab\"/></a>"
      ]
    },
    {
      "cell_type": "code",
      "execution_count": null,
      "metadata": {
        "colab": {
          "base_uri": "https://localhost:8080/"
        },
        "id": "ujnzQHUiuSRg",
        "outputId": "3f1539c0-bbfc-4084-e2d4-89b737cf168e"
      },
      "outputs": [
        {
          "output_type": "stream",
          "name": "stdout",
          "text": [
            "Ascending: {'b': 1, 'c': 2, 'a': 3}\n",
            "Descending: {'a': 3, 'c': 2, 'b': 1}\n"
          ]
        }
      ],
      "source": [
        "my_dicts = {'a': 3, 'b': 1, 'c': 2}\n",
        "\n",
        "# Sort in ascending order\n",
        "asc = dict(sorted(my_dicts.items(), key=lambda x: x[1]))\n",
        "\n",
        "# Sort in descending order\n",
        "desc = dict(sorted(my_dicts.items(), key=lambda x: x[1], reverse=True))\n",
        "\n",
        "# Print results\n",
        "print(\"Ascending:\", asc)\n",
        "print(\"Descending:\", desc)"
      ]
    },
    {
      "cell_type": "code",
      "source": [
        "dicts={\"Name\":\"Tanya\",\"Course\":\"Python\",\"Score\":90}\n",
        "for key in dicts:\n",
        "  print(key,\":\",dicts[key])"
      ],
      "metadata": {
        "colab": {
          "base_uri": "https://localhost:8080/"
        },
        "id": "aVlp8ehDueC3",
        "outputId": "7602364e-096f-49d4-b43d-51ff6425236a"
      },
      "execution_count": null,
      "outputs": [
        {
          "output_type": "stream",
          "name": "stdout",
          "text": [
            "Name : Tanya\n",
            "Course : Python\n",
            "Score : 90\n"
          ]
        }
      ]
    },
    {
      "cell_type": "code",
      "source": [
        "dicts={\"Name\":\"Tanya\",\"Course\":\"Python\",\"Score\":90}\n",
        "my_dicts = {'a': 3, 'b': 1, 'c': 2}\n",
        "merge={**dicts,**my_dicts}\n",
        "print(merge)"
      ],
      "metadata": {
        "colab": {
          "base_uri": "https://localhost:8080/"
        },
        "id": "kEFni7YdvtJu",
        "outputId": "37279a2f-de3a-4723-cdce-8fb049722ac3"
      },
      "execution_count": null,
      "outputs": [
        {
          "output_type": "stream",
          "name": "stdout",
          "text": [
            "{'Name': 'Tanya', 'Course': 'Python', 'Score': 90, 'a': 3, 'b': 1, 'c': 2}\n"
          ]
        }
      ]
    },
    {
      "cell_type": "code",
      "source": [
        "my_dicts = {'a': 3, 'b': 1, 'c': 2}\n",
        "total=sum(my_dicts.values())\n",
        "print(total)"
      ],
      "metadata": {
        "colab": {
          "base_uri": "https://localhost:8080/"
        },
        "id": "1ZFTB-o9wB1R",
        "outputId": "53329665-844e-486e-8162-1ac7dc6e0fbb"
      },
      "execution_count": null,
      "outputs": [
        {
          "output_type": "stream",
          "name": "stdout",
          "text": [
            "6\n"
          ]
        }
      ]
    },
    {
      "cell_type": "code",
      "source": [
        "my_dicts = {'a': 3, 'b': 1, 'c': 2}\n",
        "result=1\n",
        "for val in my_dicts.values():\n",
        "  result=result*val\n",
        "\n",
        "print(result)"
      ],
      "metadata": {
        "colab": {
          "base_uri": "https://localhost:8080/"
        },
        "outputId": "d773713f-e953-47f0-b09e-3051f1e65910",
        "id": "mpSjhu9pwW-D"
      },
      "execution_count": null,
      "outputs": [
        {
          "output_type": "stream",
          "name": "stdout",
          "text": [
            "6\n"
          ]
        }
      ]
    },
    {
      "cell_type": "code",
      "source": [
        "my= {'b': 3, 'c': 1, 'a': 2}\n",
        "sorts=dict(sorted(my.items(),key=lambda x: x[0]))\n",
        "print(sorts)"
      ],
      "metadata": {
        "colab": {
          "base_uri": "https://localhost:8080/",
          "height": 182
        },
        "id": "euq1G6Pwwi39",
        "outputId": "75fbed28-540f-4a0a-a8e9-3d39bb5f06a8"
      },
      "execution_count": null,
      "outputs": [
        {
          "output_type": "error",
          "ename": "TypeError",
          "evalue": "'dict' object is not callable",
          "traceback": [
            "\u001b[0;31m---------------------------------------------------------------------------\u001b[0m",
            "\u001b[0;31mTypeError\u001b[0m                                 Traceback (most recent call last)",
            "\u001b[0;32m/tmp/ipython-input-3841214820.py\u001b[0m in \u001b[0;36m<cell line: 0>\u001b[0;34m()\u001b[0m\n\u001b[1;32m      1\u001b[0m \u001b[0mmy\u001b[0m\u001b[0;34m=\u001b[0m \u001b[0;34m{\u001b[0m\u001b[0;34m'b'\u001b[0m\u001b[0;34m:\u001b[0m \u001b[0;36m3\u001b[0m\u001b[0;34m,\u001b[0m \u001b[0;34m'c'\u001b[0m\u001b[0;34m:\u001b[0m \u001b[0;36m1\u001b[0m\u001b[0;34m,\u001b[0m \u001b[0;34m'a'\u001b[0m\u001b[0;34m:\u001b[0m \u001b[0;36m2\u001b[0m\u001b[0;34m}\u001b[0m\u001b[0;34m\u001b[0m\u001b[0;34m\u001b[0m\u001b[0m\n\u001b[0;32m----> 2\u001b[0;31m \u001b[0msorts\u001b[0m\u001b[0;34m=\u001b[0m\u001b[0mdict\u001b[0m\u001b[0;34m(\u001b[0m\u001b[0msorted\u001b[0m\u001b[0;34m(\u001b[0m\u001b[0mmy\u001b[0m\u001b[0;34m.\u001b[0m\u001b[0mitems\u001b[0m\u001b[0;34m(\u001b[0m\u001b[0;34m)\u001b[0m\u001b[0;34m,\u001b[0m\u001b[0mkey\u001b[0m\u001b[0;34m=\u001b[0m\u001b[0;32mlambda\u001b[0m \u001b[0mx\u001b[0m\u001b[0;34m:\u001b[0m \u001b[0mx\u001b[0m\u001b[0;34m[\u001b[0m\u001b[0;36m0\u001b[0m\u001b[0;34m]\u001b[0m\u001b[0;34m)\u001b[0m\u001b[0;34m)\u001b[0m\u001b[0;34m\u001b[0m\u001b[0;34m\u001b[0m\u001b[0m\n\u001b[0m\u001b[1;32m      3\u001b[0m \u001b[0mprint\u001b[0m\u001b[0;34m(\u001b[0m\u001b[0msorts\u001b[0m\u001b[0;34m)\u001b[0m\u001b[0;34m\u001b[0m\u001b[0;34m\u001b[0m\u001b[0m\n",
            "\u001b[0;31mTypeError\u001b[0m: 'dict' object is not callable"
          ]
        }
      ]
    },
    {
      "cell_type": "code",
      "source": [
        "my= {'b': 3, 'c': 1, 'a': 2,'b': 3, 'c': 1, 'a': 2}\n",
        "new={}\n",
        "sets=set()\n",
        "for key,value in my.items():\n",
        "  if value not in sets:\n",
        "    new[key]=value\n",
        "    sets.add(value)\n",
        "\n",
        "print(new)"
      ],
      "metadata": {
        "colab": {
          "base_uri": "https://localhost:8080/"
        },
        "id": "GLc2jfGDwyT7",
        "outputId": "e61c4c59-30e3-498f-c51f-d2aea6b87d5a"
      },
      "execution_count": null,
      "outputs": [
        {
          "output_type": "stream",
          "name": "stdout",
          "text": [
            "{'b': 3, 'c': 1, 'a': 2}\n"
          ]
        }
      ]
    },
    {
      "cell_type": "code",
      "source": [],
      "metadata": {
        "id": "-iznjwD6zJN5"
      },
      "execution_count": null,
      "outputs": []
    }
  ]
}